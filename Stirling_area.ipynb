{
 "cells": [
  {
   "cell_type": "code",
   "execution_count": 1,
   "id": "467ee0cb-71ac-41fa-8445-7ab099ccaf7a",
   "metadata": {
    "tags": []
   },
   "outputs": [
    {
     "name": "stdout",
     "output_type": "stream",
     "text": [
      "area = 140.92363726056848\n"
     ]
    },
    {
     "data": {
      "image/png": "[encoded data removed]",
      "text/plain": [
       "<Figure size 720x720 with 1 Axes>"
      ]
     },
     "metadata": {
      "needs_background": "light"
     },
     "output_type": "display_data"
    }
   ],
   "source": [
    "######################### Stirling engine Code  #######################################\n",
    "#Nikolai Lesack Feb/15/2022\n",
    "\n",
    "\n",
    "# This code can be used to calculate the area inside a set of points\n",
    "#To run this code you will want to modify the inputted data file, the data columns used \n",
    "#and the number of rectangle bins used termed \"bins\"\n",
    "\n",
    "import numpy as np\n",
    "import matplotlib.pyplot as plt\n",
    "\n",
    "#set figure size\n",
    "plt.rcParams['figure.figsize'] = [10, 10]\n",
    "\n",
    "################ Import data ###############################################################\n",
    "#Here are a few example data files that can be run by uncommenting them \n",
    "#To run your own code modify the file called\n",
    "\n",
    "#Data = np.loadtxt(\"triangle.txt\")\n",
    "Data = np.loadtxt(\"ellipse_noisy.txt\")\n",
    "#Data = np.loadtxt(\"circle.txt\")\n",
    "\n",
    "\n",
    "#Will have to check which column is x and y when importing \n",
    "#data and change the x and y indices appropriately \n",
    "np.shape(Data)\n",
    "x = Data[:,0]\n",
    "y = Data[:,1]\n",
    "\n",
    "\n",
    "#plot data \n",
    "plt.scatter(x, y)\n",
    "\n",
    "\n",
    "################### Calculating the area ##############################################\n",
    "\n",
    "#this specifies the number of rectangels that will be used in the calculation, \n",
    "#the greater the number of rectangles the higher the accuracy however\n",
    "#if the rectangles become too small an error will occur due to no points being \n",
    "#inside the rectangle bins\n",
    "bins = 25 \n",
    "\n",
    "#Next want to find the length of the area in the x-axis\n",
    "#Find the largest x value \n",
    "min_x = min(x) \n",
    "max_x = max(x) \n",
    "\n",
    "#Next define the step size for each bin based length of shape in x and number of bins\n",
    "x_step = (max_x - min_x)/bins \n",
    "\n",
    "#preset area for iterative calc\n",
    "area = 0 \n",
    "\n",
    "\n",
    "\n",
    "#Next use for loop to calculate area of each box\n",
    "for l in range(bins):\n",
    "    \n",
    "    #set boundaries of the given rectangle bin\n",
    "    x1 = min_x + x_step*l\n",
    "    x2 = min_x + (l+1)*x_step\n",
    "    \n",
    "    #define empty list that will hold y-values in the bin\n",
    "    y_list = [] \n",
    "    \n",
    "    #This loop checks if a given value of x is in the current rectangular bin\n",
    "    #and if it is it adds the corresponding y value to a list\n",
    "    for q in range(len(x)): \n",
    "        \n",
    "        if x1 <= x[q] < x2:\n",
    "            y_list.append(y[q]) \n",
    "        \n",
    "        \n",
    "    #Next for the points in the given bin, find the mean y value\n",
    "    y_mean = sum(y_list)/len(y_list)  \n",
    "    \n",
    "\n",
    "    #Seperate y values into those above and below range\n",
    "    yhigh = [i for i in y_list if i >= y_mean] \n",
    "    ylow =  [i for i in y_list if i < y_mean]\n",
    " \n",
    "\n",
    "    #Find mean of sperated y values \n",
    "    yhigh_mean = sum(yhigh)/len(yhigh)\n",
    "    ylow_mean = sum(ylow)/len(ylow)\n",
    "    \n",
    "    #calculate area of rectangle and add it to running average \n",
    "    area = area + ((yhigh_mean - ylow_mean) * x_step)\n",
    "    \n",
    "    \n",
    "    #Plot the rectanlge bin\n",
    "    plt.plot([x1, x1], [yhigh_mean, ylow_mean], 'k-', lw=1)\n",
    "    plt.plot([x2, x2], [yhigh_mean, ylow_mean], 'k-', lw=1)\n",
    "    plt.plot([x1, x2], [yhigh_mean, yhigh_mean], 'k-', lw=1)\n",
    "    plt.plot([x1, x2], [ylow_mean, ylow_mean], 'k-', lw=1)\n",
    "    \n",
    "        \n",
    "print('area =', area)\n",
    "\n",
    "plt.show()\n"
   ]
  },
  {
   "cell_type": "code",
   "execution_count": null,
   "id": "a5014308-6e95-4994-a81a-c24e819fb23f",
   "metadata": {},
   "outputs": [],
   "source": []
  },
  {
   "cell_type": "code",
   "execution_count": null,
   "id": "e4f929b0-b085-4ba4-9d6a-0959f6aad387",
   "metadata": {},
   "outputs": [],
   "source": []
  }
 ],
 "metadata": {
  "kernelspec": {
   "display_name": "Python 3 (ipykernel)",
   "language": "python",
   "name": "python3"
  },
  "language_info": {
   "codemirror_mode": {
    "name": "ipython",
    "version": 3
   },
   "file_extension": ".py",
   "mimetype": "text/x-python",
   "name": "python",
   "nbconvert_exporter": "python",
   "pygments_lexer": "ipython3",
   "version": "3.8.12"
  }
 },
 "nbformat": 4,
 "nbformat_minor": 5
}
